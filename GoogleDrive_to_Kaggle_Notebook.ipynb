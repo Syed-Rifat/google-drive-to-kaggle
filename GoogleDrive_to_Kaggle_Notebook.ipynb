{
 "cells": [
  {
   "cell_type": "markdown",
   "id": "9aef2f02",
   "metadata": {},
   "source": [
    "# 📘 Using Google Drive Datasets in Kaggle Notebooks\n",
    "This notebook demonstrates how to download a dataset from Google Drive into a Kaggle notebook."
   ]
  },
  {
   "cell_type": "markdown",
   "id": "ea7c8d12",
   "metadata": {},
   "source": [
    "## ✅ Prerequisites\n",
    "- A Google Drive account with your dataset uploaded\n",
    "- A Kaggle account with internet access enabled in the notebook\n",
    "- Dataset should be shared with 'Anyone with the link'"
   ]
  },
  {
   "cell_type": "markdown",
   "id": "b072b491",
   "metadata": {},
   "source": [
    "## 🔗 Step 1: Extract File ID from Google Drive Share Link\n",
    "Example link:\n",
    "```\n",
    "https://drive.google.com/file/d/1aB2C3D4E5F6G7H8I9J/view?usp=sharing\n",
    "```\n",
    "**File ID:** `1aB2C3D4E5F6G7H8I9J`"
   ]
  },
  {
   "cell_type": "markdown",
   "id": "16d622df",
   "metadata": {},
   "source": [
    "## 📥 Step 2: Install `gdown` and Download the File\n",
    "Use the extracted File ID to download the file."
   ]
  },
  {
   "cell_type": "code",
   "execution_count": null,
   "id": "315cff06",
   "metadata": {},
   "outputs": [],
   "source": [
    "# Install gdown\n",
    "!pip install -q gdown\n",
    "\n",
    "# File ID from Google Drive share link\n",
    "file_id = '1aB2C3D4E5F6G7H8I9J'\n",
    "output_name = 'dataset.zip'  # Change this if it's a .csv or other file type\n",
    "\n",
    "# Download file\n",
    "!gdown https://drive.google.com/uc?id={file_id} -O {output_name}"
   ]
  },
  {
   "cell_type": "markdown",
   "id": "ce9fbecf",
   "metadata": {},
   "source": [
    "## 🗜️ Step 3: Unzip the Dataset (If applicable)"
   ]
  },
  {
   "cell_type": "code",
   "execution_count": null,
   "id": "5c59db22",
   "metadata": {},
   "outputs": [],
   "source": [
    "import zipfile\n",
    "import os\n",
    "\n",
    "if output_name.endswith('.zip'):\n",
    "    with zipfile.ZipFile(output_name, 'r') as zip_ref:\n",
    "        zip_ref.extractall('dataset')\n",
    "    print(\"Unzipped successfully.\")\n",
    "else:\n",
    "    print(\"No unzipping needed.\")"
   ]
  },
  {
   "cell_type": "markdown",
   "id": "c0eea29b",
   "metadata": {},
   "source": [
    "## 📊 Step 4: Load the Dataset"
   ]
  },
  {
   "cell_type": "code",
   "execution_count": null,
   "id": "dda70e90",
   "metadata": {},
   "outputs": [],
   "source": [
    "import pandas as pd\n",
    "\n",
    "# Adjust the path according to your dataset structure\n",
    "df = pd.read_csv('dataset/data.csv')  # Change path if needed\n",
    "df.head()"
   ]
  },
  {
   "cell_type": "markdown",
   "id": "e7b679c5",
   "metadata": {},
   "source": [
    "## ✅ Done!\n",
    "You have successfully imported and loaded a dataset from Google Drive into your Kaggle notebook."
   ]
  }
 ],
 "metadata": {},
 "nbformat": 4,
 "nbformat_minor": 5
}
